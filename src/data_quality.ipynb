{
 "cells": [
  {
   "cell_type": "code",
   "id": "initial_id",
   "metadata": {
    "collapsed": true,
    "ExecuteTime": {
     "end_time": "2025-07-21T20:57:30.684209Z",
     "start_time": "2025-07-21T20:57:30.655699Z"
    }
   },
   "source": [
    "import pandas as pd\n",
    "\n",
    "# Laden der Datensätze\n",
    "cases = pd.read_csv('../data/raw_data/data_cases_and_deaths.csv')\n",
    "testing = pd.read_csv('../data/raw_data/data_testing.csv')\n",
    "\n",
    "# Berechne Prozentsatz fehlender Werte für alle Spalten in Cases\n",
    "cases_missing_pct = (cases.isnull().sum() / len(cases)) * 100\n",
    "\n",
    "# Berechne Prozentsatz fehlender Werte für alle Spalten in Testing\n",
    "testing_missing_pct = (testing.isnull().sum() / len(testing)) * 100\n",
    "\n",
    "# Hervorhebung der relevanten Spalten für die Korrelation\n",
    "relevant_cases = 'rate_14_day'  # Wichtig für Infektionsrate\n",
    "relevant_testing_columns = ['new_cases', 'tests_done', 'testing_rate', 'positivity_rate', 'testing_data_source']  # Erweiterte relevante Spalten für Testing\n",
    "\n",
    "print(f\"\\nRelevante Spalten für Korrelation:\")\n",
    "\n",
    "# Für Cases-Dataset\n",
    "print(f\"Infektionsrate in Cases mit mindestens einem NA: {cases_missing_pct.get(relevant_cases, 0):.2f}%\")\n",
    "\n",
    "# Anzahl der Zeilen, die mindestens ein NA in den gewünschten Spalten enthalten\n",
    "na_rows = testing[relevant_testing_columns].isna().any(axis=1).sum()\n",
    "\n",
    "# Prozentsatz der Zeilen mit NA\n",
    "na_percentage = (na_rows / len(testing)) * 100\n",
    "\n",
    "# Anzahl NAs pro Spalte\n",
    "na_counts = testing[relevant_testing_columns].isnull().sum()\n",
    "\n",
    "print(f\"Prozentsatz der Zeilen mit mindestens einem NA in testing: {na_percentage:.2f}%\")\n"
   ],
   "outputs": [
    {
     "name": "stdout",
     "output_type": "stream",
     "text": [
      "\n",
      "Relevante Spalten für Korrelation:\n",
      "Infektionsrate in Cases mit mindestens einem NA: 7.63%\n",
      "Prozentsatz der Zeilen mit mindestens einem NA in testing: 18.86%\n"
     ]
    }
   ],
   "execution_count": 27
  }
 ],
 "metadata": {
  "kernelspec": {
   "display_name": "Python 3",
   "language": "python",
   "name": "python3"
  },
  "language_info": {
   "codemirror_mode": {
    "name": "ipython",
    "version": 2
   },
   "file_extension": ".py",
   "mimetype": "text/x-python",
   "name": "python",
   "nbconvert_exporter": "python",
   "pygments_lexer": "ipython2",
   "version": "2.7.6"
  }
 },
 "nbformat": 4,
 "nbformat_minor": 5
}
