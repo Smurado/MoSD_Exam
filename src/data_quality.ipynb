{
 "cells": [
  {
   "cell_type": "code",
   "id": "initial_id",
   "metadata": {
    "collapsed": true,
    "ExecuteTime": {
     "end_time": "2025-07-21T19:45:20.579683Z",
     "start_time": "2025-07-21T19:45:20.564412Z"
    }
   },
   "source": [
    "import pandas as pd\n",
    "\n",
    "# Laden der Datensätze\n",
    "cases = pd.read_csv('../data/raw_data/data_cases_and_deaths.csv')\n",
    "testing = pd.read_csv('../data/raw_data/data_testing.csv')\n",
    "\n",
    "# Fehlende Werte Überprüfen\n",
    "#print(\"Fehlende Werte in Cases-Dataset (pro Spalte):\")\n",
    "#print(cases.isnull().sum())\n",
    "\n",
    "#print(\"\\nFehlende Werte in Testing-Dataset (pro Spalte):\")\n",
    "#print(testing.isnull().sum())\n",
    "\n",
    "# Berechne Prozentsatz fehlender Werte für alle Spalten\n",
    "cases_missing_pct = (cases.isnull().sum() / len(cases)) * 100\n",
    "testing_missing_pct = (testing.isnull().sum() / len(testing)) * 100\n",
    "\n",
    "# Hervorhebung der relevanten Spalten für die Korrelation\n",
    "relevant_cases = 'rate_14_day'  # Wichtig für Infektionsrate\n",
    "relevant_testing = 'tests_done'  # Wichtig für Testhäufigkeit\n",
    "\n",
    "print(f\"\\nRelevante Spalten für Korrelation:\")\n",
    "print(f\" - {relevant_cases} (Infektionsrate) in Cases: {cases_missing_pct.get(relevant_cases, 0):.2f}% fehlend\")\n",
    "print(f\" - {relevant_testing} (Testhäufigkeit) in Testing: {testing_missing_pct.get(relevant_testing, 0):.2f}% fehlend\")\n"
   ],
   "outputs": [
    {
     "name": "stdout",
     "output_type": "stream",
     "text": [
      "\n",
      "Relevante Spalten für Korrelation:\n",
      " - rate_14_day (Infektionsrate) in Cases: 7.63% fehlend\n",
      " - tests_done (Testhäufigkeit) in Testing: 18.45% fehlend\n"
     ]
    }
   ],
   "execution_count": 11
  }
 ],
 "metadata": {
  "kernelspec": {
   "display_name": "Python 3",
   "language": "python",
   "name": "python3"
  },
  "language_info": {
   "codemirror_mode": {
    "name": "ipython",
    "version": 2
   },
   "file_extension": ".py",
   "mimetype": "text/x-python",
   "name": "python",
   "nbconvert_exporter": "python",
   "pygments_lexer": "ipython2",
   "version": "2.7.6"
  }
 },
 "nbformat": 4,
 "nbformat_minor": 5
}
