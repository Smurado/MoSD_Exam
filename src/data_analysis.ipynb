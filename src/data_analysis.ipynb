{
 "cells": [
  {
   "cell_type": "code",
   "id": "initial_id",
   "metadata": {
    "collapsed": true,
    "ExecuteTime": {
     "end_time": "2025-07-21T00:09:47.559737Z",
     "start_time": "2025-07-21T00:09:39.453834Z"
    }
   },
   "source": [
    "import pandas as pd\n",
    "import matplotlib.pyplot as plt\n",
    "import seaborn as sns\n",
    "import os\n",
    "\n",
    "def analyze_country(country, directory='../data/per_country', output_dir='../data/plots'):\n",
    "    # Dateipfad für das Land\n",
    "    filename = f'deaths_cases_testing_{country}.csv'\n",
    "    filepath = os.path.join(directory, filename)\n",
    "\n",
    "\n",
    "    if not os.path.exists(filepath):\n",
    "        print(f\"Datei für {country} nicht gefunden: {filepath}\")\n",
    "        return\n",
    "\n",
    "    # Lade Daten\n",
    "    df = pd.read_csv(filepath)\n",
    "\n",
    "    # Maximalwerte festlegen\n",
    "    max_rate_14_day = df['rate_14_day'].max()\n",
    "    max_testing_rate = df['testing_rate'].max()\n",
    "    max_value = max(max_rate_14_day, max_testing_rate)\n",
    "\n",
    "    # Ausgabeverzeichnis weiter festlegen\n",
    "    output_dir = output_dir + f'/{country}/'\n",
    "    os.makedirs(output_dir, exist_ok=True)\n",
    "\n",
    "    # Filter auf 'cases' Indicator\n",
    "    cases_df = df[df['indicator'] == 'cases']\n",
    "\n",
    "    # Berechne Korrelation (bleibt bei tests_done und new_cases, da RQ das spezifiziert)\n",
    "    correlation = cases_df['tests_done'].corr(cases_df['new_cases'])\n",
    "    print(f\"{country}: Korrelation zwischen tests_done und new_cases: {correlation:.2f}\")\n",
    "\n",
    "    # Für X-Achse-Ticks: Extrahiere unique year_week, filter auf KW-01 oder KW-26\n",
    "    cases_df['year'] = cases_df['year_week'].str.split('-').str[0]\n",
    "    cases_df['week'] = cases_df['year_week'].str.split('-').str[1]\n",
    "    tick_labels = cases_df[cases_df['week'].isin(['01', '26'])]['year_week'].unique()\n",
    "\n",
    "    # Erstelle Output-Ordner, falls nicht vorhanden\n",
    "    os.makedirs(output_dir, exist_ok=True)\n",
    "\n",
    "    # Graph 1: Scatterplot (unverändert)\n",
    "    plt.figure(figsize=(10, 6))\n",
    "    sns.scatterplot(data=cases_df, x='tests_done', y='new_cases', hue='year_week', legend=False)\n",
    "    plt.title(f'Verbindung zwischen Tests und neuen Fällen in {country}')\n",
    "    plt.xlabel('Tests durchgeführt (tests_done)')\n",
    "    plt.ylabel('Neue Fälle (new_cases)')\n",
    "    plt.grid(True)\n",
    "    scatter_path = os.path.join(output_dir, f'scatter_{country}.png')\n",
    "    plt.savefig(scatter_path)\n",
    "    plt.close()\n",
    "    print(f\"Scatterplot für {country} gespeichert: {scatter_path}\")\n",
    "\n",
    "    # Graph 2: Lineplot mit Twin-Y-Achsen\n",
    "    fig, ax1 = plt.subplots(figsize=(12, 8))\n",
    "\n",
    "    # Linke Y-Achse: rate_14_day\n",
    "    sns.lineplot(data=cases_df, x='year_week', y='rate_14_day', ax=ax1, color='blue', label='Rate 14 Days')\n",
    "    ax1.set_ylabel('14-Tage-Rate', color='blue', fontsize=14)\n",
    "    ax1.tick_params(axis='y', labelcolor='blue', labelsize=14)\n",
    "    ax1.set_ylim(0, max_value)\n",
    "\n",
    "    # Rechte Y-Achse: testing_rate\n",
    "    ax2 = ax1.twinx()\n",
    "    sns.lineplot(data=cases_df, x='year_week', y='testing_rate', ax=ax2, color='red', label='Testing Rate')\n",
    "    ax2.set_ylabel('Testing-Rate', color='red', fontsize=14)\n",
    "    ax2.tick_params(axis='y', labelcolor='red', labelsize=14)\n",
    "    ax2.set_ylim(0, max_value)\n",
    "\n",
    "    # Gemeinsame X-Achse\n",
    "    ax1.set_title(f'Zeitreihe von 14-Tage-Rate und Testing-Rate in {country}', fontsize=20)\n",
    "    ax1.set_xlabel('Jahr-Woche', fontsize=14)\n",
    "    ax1.set_xticks(tick_labels)\n",
    "    ax1.tick_params(axis='x', rotation=45, labelsize=14)\n",
    "    ax1.grid(True)\n",
    "\n",
    "    # Legende kombinieren\n",
    "    lines1, labels1 = ax1.get_legend_handles_labels()\n",
    "    lines2, labels2 = ax2.get_legend_handles_labels()\n",
    "    ax1.legend(lines1 + lines2, labels1 + labels2, loc='upper left',fontsize=14)\n",
    "\n",
    "    plt.style.use('default')\n",
    "\n",
    "    # Legende oben rechts entfernen\n",
    "    ax2.legend().remove()\n",
    "\n",
    "    plt.tight_layout()\n",
    "    line_path = os.path.join(output_dir, f'{country}.png')\n",
    "    plt.savefig(line_path)\n",
    "    plt.close()\n",
    "    print(f\"Lineplot für {country} gespeichert: {line_path}\")\n",
    "\n",
    "# Ort der CSV-Dateien\n",
    "directory = '../data/per_country'\n",
    "\n",
    "# Iterate over files in the directory\n",
    "for filename in os.listdir(directory):\n",
    "    if filename.endswith('.csv'):\n",
    "        # Extract country name from filename\n",
    "        country_name = filename[:-4].split('_')[-1]  # Remove \".csv\" and get last part after underscore\n",
    "\n",
    "        # Load the CSV file\n",
    "        file_path = os.path.join(directory, filename)\n",
    "        df = pd.read_csv(file_path)\n",
    "        analyze_country(country_name)"
   ],
   "outputs": [
    {
     "name": "stdout",
     "output_type": "stream",
     "text": [
      "Iceland: Korrelation zwischen tests_done und new_cases: 0.67\n",
      "Scatterplot für Iceland gespeichert: ../data/plots/Iceland/scatter_Iceland.png\n"
     ]
    },
    {
     "name": "stderr",
     "output_type": "stream",
     "text": [
      "/var/folders/x3/w9ng2y8j28gbmqb5jv7z662c0000gn/T/ipykernel_29728/1914395739.py:36: SettingWithCopyWarning: \n",
      "A value is trying to be set on a copy of a slice from a DataFrame.\n",
      "Try using .loc[row_indexer,col_indexer] = value instead\n",
      "\n",
      "See the caveats in the documentation: https://pandas.pydata.org/pandas-docs/stable/user_guide/indexing.html#returning-a-view-versus-a-copy\n",
      "  cases_df['year'] = cases_df['year_week'].str.split('-').str[0]\n",
      "/var/folders/x3/w9ng2y8j28gbmqb5jv7z662c0000gn/T/ipykernel_29728/1914395739.py:37: SettingWithCopyWarning: \n",
      "A value is trying to be set on a copy of a slice from a DataFrame.\n",
      "Try using .loc[row_indexer,col_indexer] = value instead\n",
      "\n",
      "See the caveats in the documentation: https://pandas.pydata.org/pandas-docs/stable/user_guide/indexing.html#returning-a-view-versus-a-copy\n",
      "  cases_df['week'] = cases_df['year_week'].str.split('-').str[1]\n"
     ]
    },
    {
     "name": "stdout",
     "output_type": "stream",
     "text": [
      "Lineplot für Iceland gespeichert: ../data/plots/Iceland/Iceland.png\n",
      "Hungary: Korrelation zwischen tests_done und new_cases: 0.91\n",
      "Scatterplot für Hungary gespeichert: ../data/plots/Hungary/scatter_Hungary.png\n"
     ]
    },
    {
     "name": "stderr",
     "output_type": "stream",
     "text": [
      "/var/folders/x3/w9ng2y8j28gbmqb5jv7z662c0000gn/T/ipykernel_29728/1914395739.py:36: SettingWithCopyWarning: \n",
      "A value is trying to be set on a copy of a slice from a DataFrame.\n",
      "Try using .loc[row_indexer,col_indexer] = value instead\n",
      "\n",
      "See the caveats in the documentation: https://pandas.pydata.org/pandas-docs/stable/user_guide/indexing.html#returning-a-view-versus-a-copy\n",
      "  cases_df['year'] = cases_df['year_week'].str.split('-').str[0]\n",
      "/var/folders/x3/w9ng2y8j28gbmqb5jv7z662c0000gn/T/ipykernel_29728/1914395739.py:37: SettingWithCopyWarning: \n",
      "A value is trying to be set on a copy of a slice from a DataFrame.\n",
      "Try using .loc[row_indexer,col_indexer] = value instead\n",
      "\n",
      "See the caveats in the documentation: https://pandas.pydata.org/pandas-docs/stable/user_guide/indexing.html#returning-a-view-versus-a-copy\n",
      "  cases_df['week'] = cases_df['year_week'].str.split('-').str[1]\n"
     ]
    },
    {
     "name": "stdout",
     "output_type": "stream",
     "text": [
      "Lineplot für Hungary gespeichert: ../data/plots/Hungary/Hungary.png\n",
      "Sweden: Korrelation zwischen tests_done und new_cases: 0.75\n",
      "Scatterplot für Sweden gespeichert: ../data/plots/Sweden/scatter_Sweden.png\n"
     ]
    },
    {
     "name": "stderr",
     "output_type": "stream",
     "text": [
      "/var/folders/x3/w9ng2y8j28gbmqb5jv7z662c0000gn/T/ipykernel_29728/1914395739.py:36: SettingWithCopyWarning: \n",
      "A value is trying to be set on a copy of a slice from a DataFrame.\n",
      "Try using .loc[row_indexer,col_indexer] = value instead\n",
      "\n",
      "See the caveats in the documentation: https://pandas.pydata.org/pandas-docs/stable/user_guide/indexing.html#returning-a-view-versus-a-copy\n",
      "  cases_df['year'] = cases_df['year_week'].str.split('-').str[0]\n",
      "/var/folders/x3/w9ng2y8j28gbmqb5jv7z662c0000gn/T/ipykernel_29728/1914395739.py:37: SettingWithCopyWarning: \n",
      "A value is trying to be set on a copy of a slice from a DataFrame.\n",
      "Try using .loc[row_indexer,col_indexer] = value instead\n",
      "\n",
      "See the caveats in the documentation: https://pandas.pydata.org/pandas-docs/stable/user_guide/indexing.html#returning-a-view-versus-a-copy\n",
      "  cases_df['week'] = cases_df['year_week'].str.split('-').str[1]\n"
     ]
    },
    {
     "name": "stdout",
     "output_type": "stream",
     "text": [
      "Lineplot für Sweden gespeichert: ../data/plots/Sweden/Sweden.png\n",
      "Netherlands: Korrelation zwischen tests_done und new_cases: 0.73\n",
      "Scatterplot für Netherlands gespeichert: ../data/plots/Netherlands/scatter_Netherlands.png\n"
     ]
    },
    {
     "name": "stderr",
     "output_type": "stream",
     "text": [
      "/var/folders/x3/w9ng2y8j28gbmqb5jv7z662c0000gn/T/ipykernel_29728/1914395739.py:36: SettingWithCopyWarning: \n",
      "A value is trying to be set on a copy of a slice from a DataFrame.\n",
      "Try using .loc[row_indexer,col_indexer] = value instead\n",
      "\n",
      "See the caveats in the documentation: https://pandas.pydata.org/pandas-docs/stable/user_guide/indexing.html#returning-a-view-versus-a-copy\n",
      "  cases_df['year'] = cases_df['year_week'].str.split('-').str[0]\n",
      "/var/folders/x3/w9ng2y8j28gbmqb5jv7z662c0000gn/T/ipykernel_29728/1914395739.py:37: SettingWithCopyWarning: \n",
      "A value is trying to be set on a copy of a slice from a DataFrame.\n",
      "Try using .loc[row_indexer,col_indexer] = value instead\n",
      "\n",
      "See the caveats in the documentation: https://pandas.pydata.org/pandas-docs/stable/user_guide/indexing.html#returning-a-view-versus-a-copy\n",
      "  cases_df['week'] = cases_df['year_week'].str.split('-').str[1]\n"
     ]
    },
    {
     "name": "stdout",
     "output_type": "stream",
     "text": [
      "Lineplot für Netherlands gespeichert: ../data/plots/Netherlands/Netherlands.png\n",
      "Greece: Korrelation zwischen tests_done und new_cases: 0.64\n",
      "Scatterplot für Greece gespeichert: ../data/plots/Greece/scatter_Greece.png\n"
     ]
    },
    {
     "name": "stderr",
     "output_type": "stream",
     "text": [
      "/var/folders/x3/w9ng2y8j28gbmqb5jv7z662c0000gn/T/ipykernel_29728/1914395739.py:36: SettingWithCopyWarning: \n",
      "A value is trying to be set on a copy of a slice from a DataFrame.\n",
      "Try using .loc[row_indexer,col_indexer] = value instead\n",
      "\n",
      "See the caveats in the documentation: https://pandas.pydata.org/pandas-docs/stable/user_guide/indexing.html#returning-a-view-versus-a-copy\n",
      "  cases_df['year'] = cases_df['year_week'].str.split('-').str[0]\n",
      "/var/folders/x3/w9ng2y8j28gbmqb5jv7z662c0000gn/T/ipykernel_29728/1914395739.py:37: SettingWithCopyWarning: \n",
      "A value is trying to be set on a copy of a slice from a DataFrame.\n",
      "Try using .loc[row_indexer,col_indexer] = value instead\n",
      "\n",
      "See the caveats in the documentation: https://pandas.pydata.org/pandas-docs/stable/user_guide/indexing.html#returning-a-view-versus-a-copy\n",
      "  cases_df['week'] = cases_df['year_week'].str.split('-').str[1]\n"
     ]
    },
    {
     "name": "stdout",
     "output_type": "stream",
     "text": [
      "Lineplot für Greece gespeichert: ../data/plots/Greece/Greece.png\n",
      "Cyprus: Korrelation zwischen tests_done und new_cases: 0.43\n",
      "Scatterplot für Cyprus gespeichert: ../data/plots/Cyprus/scatter_Cyprus.png\n"
     ]
    },
    {
     "name": "stderr",
     "output_type": "stream",
     "text": [
      "/var/folders/x3/w9ng2y8j28gbmqb5jv7z662c0000gn/T/ipykernel_29728/1914395739.py:36: SettingWithCopyWarning: \n",
      "A value is trying to be set on a copy of a slice from a DataFrame.\n",
      "Try using .loc[row_indexer,col_indexer] = value instead\n",
      "\n",
      "See the caveats in the documentation: https://pandas.pydata.org/pandas-docs/stable/user_guide/indexing.html#returning-a-view-versus-a-copy\n",
      "  cases_df['year'] = cases_df['year_week'].str.split('-').str[0]\n",
      "/var/folders/x3/w9ng2y8j28gbmqb5jv7z662c0000gn/T/ipykernel_29728/1914395739.py:37: SettingWithCopyWarning: \n",
      "A value is trying to be set on a copy of a slice from a DataFrame.\n",
      "Try using .loc[row_indexer,col_indexer] = value instead\n",
      "\n",
      "See the caveats in the documentation: https://pandas.pydata.org/pandas-docs/stable/user_guide/indexing.html#returning-a-view-versus-a-copy\n",
      "  cases_df['week'] = cases_df['year_week'].str.split('-').str[1]\n"
     ]
    },
    {
     "name": "stdout",
     "output_type": "stream",
     "text": [
      "Lineplot für Cyprus gespeichert: ../data/plots/Cyprus/Cyprus.png\n",
      "Estonia: Korrelation zwischen tests_done und new_cases: 0.74\n",
      "Scatterplot für Estonia gespeichert: ../data/plots/Estonia/scatter_Estonia.png\n"
     ]
    },
    {
     "name": "stderr",
     "output_type": "stream",
     "text": [
      "/var/folders/x3/w9ng2y8j28gbmqb5jv7z662c0000gn/T/ipykernel_29728/1914395739.py:36: SettingWithCopyWarning: \n",
      "A value is trying to be set on a copy of a slice from a DataFrame.\n",
      "Try using .loc[row_indexer,col_indexer] = value instead\n",
      "\n",
      "See the caveats in the documentation: https://pandas.pydata.org/pandas-docs/stable/user_guide/indexing.html#returning-a-view-versus-a-copy\n",
      "  cases_df['year'] = cases_df['year_week'].str.split('-').str[0]\n",
      "/var/folders/x3/w9ng2y8j28gbmqb5jv7z662c0000gn/T/ipykernel_29728/1914395739.py:37: SettingWithCopyWarning: \n",
      "A value is trying to be set on a copy of a slice from a DataFrame.\n",
      "Try using .loc[row_indexer,col_indexer] = value instead\n",
      "\n",
      "See the caveats in the documentation: https://pandas.pydata.org/pandas-docs/stable/user_guide/indexing.html#returning-a-view-versus-a-copy\n",
      "  cases_df['week'] = cases_df['year_week'].str.split('-').str[1]\n"
     ]
    },
    {
     "name": "stdout",
     "output_type": "stream",
     "text": [
      "Lineplot für Estonia gespeichert: ../data/plots/Estonia/Estonia.png\n",
      "Czechia: Korrelation zwischen tests_done und new_cases: 0.41\n",
      "Scatterplot für Czechia gespeichert: ../data/plots/Czechia/scatter_Czechia.png\n"
     ]
    },
    {
     "name": "stderr",
     "output_type": "stream",
     "text": [
      "/var/folders/x3/w9ng2y8j28gbmqb5jv7z662c0000gn/T/ipykernel_29728/1914395739.py:36: SettingWithCopyWarning: \n",
      "A value is trying to be set on a copy of a slice from a DataFrame.\n",
      "Try using .loc[row_indexer,col_indexer] = value instead\n",
      "\n",
      "See the caveats in the documentation: https://pandas.pydata.org/pandas-docs/stable/user_guide/indexing.html#returning-a-view-versus-a-copy\n",
      "  cases_df['year'] = cases_df['year_week'].str.split('-').str[0]\n",
      "/var/folders/x3/w9ng2y8j28gbmqb5jv7z662c0000gn/T/ipykernel_29728/1914395739.py:37: SettingWithCopyWarning: \n",
      "A value is trying to be set on a copy of a slice from a DataFrame.\n",
      "Try using .loc[row_indexer,col_indexer] = value instead\n",
      "\n",
      "See the caveats in the documentation: https://pandas.pydata.org/pandas-docs/stable/user_guide/indexing.html#returning-a-view-versus-a-copy\n",
      "  cases_df['week'] = cases_df['year_week'].str.split('-').str[1]\n"
     ]
    },
    {
     "name": "stdout",
     "output_type": "stream",
     "text": [
      "Lineplot für Czechia gespeichert: ../data/plots/Czechia/Czechia.png\n",
      "Poland: Korrelation zwischen tests_done und new_cases: 0.87\n",
      "Scatterplot für Poland gespeichert: ../data/plots/Poland/scatter_Poland.png\n"
     ]
    },
    {
     "name": "stderr",
     "output_type": "stream",
     "text": [
      "/var/folders/x3/w9ng2y8j28gbmqb5jv7z662c0000gn/T/ipykernel_29728/1914395739.py:36: SettingWithCopyWarning: \n",
      "A value is trying to be set on a copy of a slice from a DataFrame.\n",
      "Try using .loc[row_indexer,col_indexer] = value instead\n",
      "\n",
      "See the caveats in the documentation: https://pandas.pydata.org/pandas-docs/stable/user_guide/indexing.html#returning-a-view-versus-a-copy\n",
      "  cases_df['year'] = cases_df['year_week'].str.split('-').str[0]\n",
      "/var/folders/x3/w9ng2y8j28gbmqb5jv7z662c0000gn/T/ipykernel_29728/1914395739.py:37: SettingWithCopyWarning: \n",
      "A value is trying to be set on a copy of a slice from a DataFrame.\n",
      "Try using .loc[row_indexer,col_indexer] = value instead\n",
      "\n",
      "See the caveats in the documentation: https://pandas.pydata.org/pandas-docs/stable/user_guide/indexing.html#returning-a-view-versus-a-copy\n",
      "  cases_df['week'] = cases_df['year_week'].str.split('-').str[1]\n"
     ]
    },
    {
     "name": "stdout",
     "output_type": "stream",
     "text": [
      "Lineplot für Poland gespeichert: ../data/plots/Poland/Poland.png\n",
      "Luxembourg: Korrelation zwischen tests_done und new_cases: 0.09\n",
      "Scatterplot für Luxembourg gespeichert: ../data/plots/Luxembourg/scatter_Luxembourg.png\n"
     ]
    },
    {
     "name": "stderr",
     "output_type": "stream",
     "text": [
      "/var/folders/x3/w9ng2y8j28gbmqb5jv7z662c0000gn/T/ipykernel_29728/1914395739.py:36: SettingWithCopyWarning: \n",
      "A value is trying to be set on a copy of a slice from a DataFrame.\n",
      "Try using .loc[row_indexer,col_indexer] = value instead\n",
      "\n",
      "See the caveats in the documentation: https://pandas.pydata.org/pandas-docs/stable/user_guide/indexing.html#returning-a-view-versus-a-copy\n",
      "  cases_df['year'] = cases_df['year_week'].str.split('-').str[0]\n",
      "/var/folders/x3/w9ng2y8j28gbmqb5jv7z662c0000gn/T/ipykernel_29728/1914395739.py:37: SettingWithCopyWarning: \n",
      "A value is trying to be set on a copy of a slice from a DataFrame.\n",
      "Try using .loc[row_indexer,col_indexer] = value instead\n",
      "\n",
      "See the caveats in the documentation: https://pandas.pydata.org/pandas-docs/stable/user_guide/indexing.html#returning-a-view-versus-a-copy\n",
      "  cases_df['week'] = cases_df['year_week'].str.split('-').str[1]\n"
     ]
    },
    {
     "name": "stdout",
     "output_type": "stream",
     "text": [
      "Lineplot für Luxembourg gespeichert: ../data/plots/Luxembourg/Luxembourg.png\n",
      "Belgium: Korrelation zwischen tests_done und new_cases: 0.78\n",
      "Scatterplot für Belgium gespeichert: ../data/plots/Belgium/scatter_Belgium.png\n"
     ]
    },
    {
     "name": "stderr",
     "output_type": "stream",
     "text": [
      "/var/folders/x3/w9ng2y8j28gbmqb5jv7z662c0000gn/T/ipykernel_29728/1914395739.py:36: SettingWithCopyWarning: \n",
      "A value is trying to be set on a copy of a slice from a DataFrame.\n",
      "Try using .loc[row_indexer,col_indexer] = value instead\n",
      "\n",
      "See the caveats in the documentation: https://pandas.pydata.org/pandas-docs/stable/user_guide/indexing.html#returning-a-view-versus-a-copy\n",
      "  cases_df['year'] = cases_df['year_week'].str.split('-').str[0]\n",
      "/var/folders/x3/w9ng2y8j28gbmqb5jv7z662c0000gn/T/ipykernel_29728/1914395739.py:37: SettingWithCopyWarning: \n",
      "A value is trying to be set on a copy of a slice from a DataFrame.\n",
      "Try using .loc[row_indexer,col_indexer] = value instead\n",
      "\n",
      "See the caveats in the documentation: https://pandas.pydata.org/pandas-docs/stable/user_guide/indexing.html#returning-a-view-versus-a-copy\n",
      "  cases_df['week'] = cases_df['year_week'].str.split('-').str[1]\n"
     ]
    },
    {
     "name": "stdout",
     "output_type": "stream",
     "text": [
      "Lineplot für Belgium gespeichert: ../data/plots/Belgium/Belgium.png\n",
      "Spain: Korrelation zwischen tests_done und new_cases: 0.79\n",
      "Scatterplot für Spain gespeichert: ../data/plots/Spain/scatter_Spain.png\n"
     ]
    },
    {
     "name": "stderr",
     "output_type": "stream",
     "text": [
      "/var/folders/x3/w9ng2y8j28gbmqb5jv7z662c0000gn/T/ipykernel_29728/1914395739.py:36: SettingWithCopyWarning: \n",
      "A value is trying to be set on a copy of a slice from a DataFrame.\n",
      "Try using .loc[row_indexer,col_indexer] = value instead\n",
      "\n",
      "See the caveats in the documentation: https://pandas.pydata.org/pandas-docs/stable/user_guide/indexing.html#returning-a-view-versus-a-copy\n",
      "  cases_df['year'] = cases_df['year_week'].str.split('-').str[0]\n",
      "/var/folders/x3/w9ng2y8j28gbmqb5jv7z662c0000gn/T/ipykernel_29728/1914395739.py:37: SettingWithCopyWarning: \n",
      "A value is trying to be set on a copy of a slice from a DataFrame.\n",
      "Try using .loc[row_indexer,col_indexer] = value instead\n",
      "\n",
      "See the caveats in the documentation: https://pandas.pydata.org/pandas-docs/stable/user_guide/indexing.html#returning-a-view-versus-a-copy\n",
      "  cases_df['week'] = cases_df['year_week'].str.split('-').str[1]\n"
     ]
    },
    {
     "name": "stdout",
     "output_type": "stream",
     "text": [
      "Lineplot für Spain gespeichert: ../data/plots/Spain/Spain.png\n",
      "Germany: Korrelation zwischen tests_done und new_cases: 0.65\n",
      "Scatterplot für Germany gespeichert: ../data/plots/Germany/scatter_Germany.png\n"
     ]
    },
    {
     "name": "stderr",
     "output_type": "stream",
     "text": [
      "/var/folders/x3/w9ng2y8j28gbmqb5jv7z662c0000gn/T/ipykernel_29728/1914395739.py:36: SettingWithCopyWarning: \n",
      "A value is trying to be set on a copy of a slice from a DataFrame.\n",
      "Try using .loc[row_indexer,col_indexer] = value instead\n",
      "\n",
      "See the caveats in the documentation: https://pandas.pydata.org/pandas-docs/stable/user_guide/indexing.html#returning-a-view-versus-a-copy\n",
      "  cases_df['year'] = cases_df['year_week'].str.split('-').str[0]\n",
      "/var/folders/x3/w9ng2y8j28gbmqb5jv7z662c0000gn/T/ipykernel_29728/1914395739.py:37: SettingWithCopyWarning: \n",
      "A value is trying to be set on a copy of a slice from a DataFrame.\n",
      "Try using .loc[row_indexer,col_indexer] = value instead\n",
      "\n",
      "See the caveats in the documentation: https://pandas.pydata.org/pandas-docs/stable/user_guide/indexing.html#returning-a-view-versus-a-copy\n",
      "  cases_df['week'] = cases_df['year_week'].str.split('-').str[1]\n"
     ]
    },
    {
     "name": "stdout",
     "output_type": "stream",
     "text": [
      "Lineplot für Germany gespeichert: ../data/plots/Germany/Germany.png\n",
      "Austria: Korrelation zwischen tests_done und new_cases: 0.63\n",
      "Scatterplot für Austria gespeichert: ../data/plots/Austria/scatter_Austria.png\n",
      "Lineplot für Austria gespeichert: ../data/plots/Austria/Austria.png\n",
      "Slovakia: Korrelation zwischen tests_done und new_cases: 0.57\n"
     ]
    },
    {
     "name": "stderr",
     "output_type": "stream",
     "text": [
      "/var/folders/x3/w9ng2y8j28gbmqb5jv7z662c0000gn/T/ipykernel_29728/1914395739.py:36: SettingWithCopyWarning: \n",
      "A value is trying to be set on a copy of a slice from a DataFrame.\n",
      "Try using .loc[row_indexer,col_indexer] = value instead\n",
      "\n",
      "See the caveats in the documentation: https://pandas.pydata.org/pandas-docs/stable/user_guide/indexing.html#returning-a-view-versus-a-copy\n",
      "  cases_df['year'] = cases_df['year_week'].str.split('-').str[0]\n",
      "/var/folders/x3/w9ng2y8j28gbmqb5jv7z662c0000gn/T/ipykernel_29728/1914395739.py:37: SettingWithCopyWarning: \n",
      "A value is trying to be set on a copy of a slice from a DataFrame.\n",
      "Try using .loc[row_indexer,col_indexer] = value instead\n",
      "\n",
      "See the caveats in the documentation: https://pandas.pydata.org/pandas-docs/stable/user_guide/indexing.html#returning-a-view-versus-a-copy\n",
      "  cases_df['week'] = cases_df['year_week'].str.split('-').str[1]\n",
      "/var/folders/x3/w9ng2y8j28gbmqb5jv7z662c0000gn/T/ipykernel_29728/1914395739.py:36: SettingWithCopyWarning: \n",
      "A value is trying to be set on a copy of a slice from a DataFrame.\n",
      "Try using .loc[row_indexer,col_indexer] = value instead\n",
      "\n",
      "See the caveats in the documentation: https://pandas.pydata.org/pandas-docs/stable/user_guide/indexing.html#returning-a-view-versus-a-copy\n",
      "  cases_df['year'] = cases_df['year_week'].str.split('-').str[0]\n",
      "/var/folders/x3/w9ng2y8j28gbmqb5jv7z662c0000gn/T/ipykernel_29728/1914395739.py:37: SettingWithCopyWarning: \n",
      "A value is trying to be set on a copy of a slice from a DataFrame.\n",
      "Try using .loc[row_indexer,col_indexer] = value instead\n",
      "\n",
      "See the caveats in the documentation: https://pandas.pydata.org/pandas-docs/stable/user_guide/indexing.html#returning-a-view-versus-a-copy\n",
      "  cases_df['week'] = cases_df['year_week'].str.split('-').str[1]\n"
     ]
    },
    {
     "name": "stdout",
     "output_type": "stream",
     "text": [
      "Scatterplot für Slovakia gespeichert: ../data/plots/Slovakia/scatter_Slovakia.png\n",
      "Lineplot für Slovakia gespeichert: ../data/plots/Slovakia/Slovakia.png\n",
      "Slovenia: Korrelation zwischen tests_done und new_cases: 0.72\n",
      "Scatterplot für Slovenia gespeichert: ../data/plots/Slovenia/scatter_Slovenia.png\n"
     ]
    },
    {
     "name": "stderr",
     "output_type": "stream",
     "text": [
      "/var/folders/x3/w9ng2y8j28gbmqb5jv7z662c0000gn/T/ipykernel_29728/1914395739.py:36: SettingWithCopyWarning: \n",
      "A value is trying to be set on a copy of a slice from a DataFrame.\n",
      "Try using .loc[row_indexer,col_indexer] = value instead\n",
      "\n",
      "See the caveats in the documentation: https://pandas.pydata.org/pandas-docs/stable/user_guide/indexing.html#returning-a-view-versus-a-copy\n",
      "  cases_df['year'] = cases_df['year_week'].str.split('-').str[0]\n",
      "/var/folders/x3/w9ng2y8j28gbmqb5jv7z662c0000gn/T/ipykernel_29728/1914395739.py:37: SettingWithCopyWarning: \n",
      "A value is trying to be set on a copy of a slice from a DataFrame.\n",
      "Try using .loc[row_indexer,col_indexer] = value instead\n",
      "\n",
      "See the caveats in the documentation: https://pandas.pydata.org/pandas-docs/stable/user_guide/indexing.html#returning-a-view-versus-a-copy\n",
      "  cases_df['week'] = cases_df['year_week'].str.split('-').str[1]\n"
     ]
    },
    {
     "name": "stdout",
     "output_type": "stream",
     "text": [
      "Lineplot für Slovenia gespeichert: ../data/plots/Slovenia/Slovenia.png\n",
      "Liechtenstein: Korrelation zwischen tests_done und new_cases: 0.61\n",
      "Scatterplot für Liechtenstein gespeichert: ../data/plots/Liechtenstein/scatter_Liechtenstein.png\n"
     ]
    },
    {
     "name": "stderr",
     "output_type": "stream",
     "text": [
      "/var/folders/x3/w9ng2y8j28gbmqb5jv7z662c0000gn/T/ipykernel_29728/1914395739.py:36: SettingWithCopyWarning: \n",
      "A value is trying to be set on a copy of a slice from a DataFrame.\n",
      "Try using .loc[row_indexer,col_indexer] = value instead\n",
      "\n",
      "See the caveats in the documentation: https://pandas.pydata.org/pandas-docs/stable/user_guide/indexing.html#returning-a-view-versus-a-copy\n",
      "  cases_df['year'] = cases_df['year_week'].str.split('-').str[0]\n",
      "/var/folders/x3/w9ng2y8j28gbmqb5jv7z662c0000gn/T/ipykernel_29728/1914395739.py:37: SettingWithCopyWarning: \n",
      "A value is trying to be set on a copy of a slice from a DataFrame.\n",
      "Try using .loc[row_indexer,col_indexer] = value instead\n",
      "\n",
      "See the caveats in the documentation: https://pandas.pydata.org/pandas-docs/stable/user_guide/indexing.html#returning-a-view-versus-a-copy\n",
      "  cases_df['week'] = cases_df['year_week'].str.split('-').str[1]\n"
     ]
    },
    {
     "name": "stdout",
     "output_type": "stream",
     "text": [
      "Lineplot für Liechtenstein gespeichert: ../data/plots/Liechtenstein/Liechtenstein.png\n",
      "Norway: Korrelation zwischen tests_done und new_cases: 0.48\n",
      "Scatterplot für Norway gespeichert: ../data/plots/Norway/scatter_Norway.png\n"
     ]
    },
    {
     "name": "stderr",
     "output_type": "stream",
     "text": [
      "/var/folders/x3/w9ng2y8j28gbmqb5jv7z662c0000gn/T/ipykernel_29728/1914395739.py:36: SettingWithCopyWarning: \n",
      "A value is trying to be set on a copy of a slice from a DataFrame.\n",
      "Try using .loc[row_indexer,col_indexer] = value instead\n",
      "\n",
      "See the caveats in the documentation: https://pandas.pydata.org/pandas-docs/stable/user_guide/indexing.html#returning-a-view-versus-a-copy\n",
      "  cases_df['year'] = cases_df['year_week'].str.split('-').str[0]\n",
      "/var/folders/x3/w9ng2y8j28gbmqb5jv7z662c0000gn/T/ipykernel_29728/1914395739.py:37: SettingWithCopyWarning: \n",
      "A value is trying to be set on a copy of a slice from a DataFrame.\n",
      "Try using .loc[row_indexer,col_indexer] = value instead\n",
      "\n",
      "See the caveats in the documentation: https://pandas.pydata.org/pandas-docs/stable/user_guide/indexing.html#returning-a-view-versus-a-copy\n",
      "  cases_df['week'] = cases_df['year_week'].str.split('-').str[1]\n"
     ]
    },
    {
     "name": "stdout",
     "output_type": "stream",
     "text": [
      "Lineplot für Norway gespeichert: ../data/plots/Norway/Norway.png\n",
      "Denmark: Korrelation zwischen tests_done und new_cases: 0.35\n",
      "Scatterplot für Denmark gespeichert: ../data/plots/Denmark/scatter_Denmark.png\n"
     ]
    },
    {
     "name": "stderr",
     "output_type": "stream",
     "text": [
      "/var/folders/x3/w9ng2y8j28gbmqb5jv7z662c0000gn/T/ipykernel_29728/1914395739.py:36: SettingWithCopyWarning: \n",
      "A value is trying to be set on a copy of a slice from a DataFrame.\n",
      "Try using .loc[row_indexer,col_indexer] = value instead\n",
      "\n",
      "See the caveats in the documentation: https://pandas.pydata.org/pandas-docs/stable/user_guide/indexing.html#returning-a-view-versus-a-copy\n",
      "  cases_df['year'] = cases_df['year_week'].str.split('-').str[0]\n",
      "/var/folders/x3/w9ng2y8j28gbmqb5jv7z662c0000gn/T/ipykernel_29728/1914395739.py:37: SettingWithCopyWarning: \n",
      "A value is trying to be set on a copy of a slice from a DataFrame.\n",
      "Try using .loc[row_indexer,col_indexer] = value instead\n",
      "\n",
      "See the caveats in the documentation: https://pandas.pydata.org/pandas-docs/stable/user_guide/indexing.html#returning-a-view-versus-a-copy\n",
      "  cases_df['week'] = cases_df['year_week'].str.split('-').str[1]\n"
     ]
    },
    {
     "name": "stdout",
     "output_type": "stream",
     "text": [
      "Lineplot für Denmark gespeichert: ../data/plots/Denmark/Denmark.png\n",
      "Malta: Korrelation zwischen tests_done und new_cases: 0.71\n",
      "Scatterplot für Malta gespeichert: ../data/plots/Malta/scatter_Malta.png\n"
     ]
    },
    {
     "name": "stderr",
     "output_type": "stream",
     "text": [
      "/var/folders/x3/w9ng2y8j28gbmqb5jv7z662c0000gn/T/ipykernel_29728/1914395739.py:36: SettingWithCopyWarning: \n",
      "A value is trying to be set on a copy of a slice from a DataFrame.\n",
      "Try using .loc[row_indexer,col_indexer] = value instead\n",
      "\n",
      "See the caveats in the documentation: https://pandas.pydata.org/pandas-docs/stable/user_guide/indexing.html#returning-a-view-versus-a-copy\n",
      "  cases_df['year'] = cases_df['year_week'].str.split('-').str[0]\n",
      "/var/folders/x3/w9ng2y8j28gbmqb5jv7z662c0000gn/T/ipykernel_29728/1914395739.py:37: SettingWithCopyWarning: \n",
      "A value is trying to be set on a copy of a slice from a DataFrame.\n",
      "Try using .loc[row_indexer,col_indexer] = value instead\n",
      "\n",
      "See the caveats in the documentation: https://pandas.pydata.org/pandas-docs/stable/user_guide/indexing.html#returning-a-view-versus-a-copy\n",
      "  cases_df['week'] = cases_df['year_week'].str.split('-').str[1]\n"
     ]
    },
    {
     "name": "stdout",
     "output_type": "stream",
     "text": [
      "Lineplot für Malta gespeichert: ../data/plots/Malta/Malta.png\n",
      "Lithuania: Korrelation zwischen tests_done und new_cases: 0.58\n",
      "Scatterplot für Lithuania gespeichert: ../data/plots/Lithuania/scatter_Lithuania.png\n",
      "Lineplot für Lithuania gespeichert: ../data/plots/Lithuania/Lithuania.png\n",
      "Bulgaria: Korrelation zwischen tests_done und new_cases: 0.78\n"
     ]
    },
    {
     "name": "stderr",
     "output_type": "stream",
     "text": [
      "/var/folders/x3/w9ng2y8j28gbmqb5jv7z662c0000gn/T/ipykernel_29728/1914395739.py:36: SettingWithCopyWarning: \n",
      "A value is trying to be set on a copy of a slice from a DataFrame.\n",
      "Try using .loc[row_indexer,col_indexer] = value instead\n",
      "\n",
      "See the caveats in the documentation: https://pandas.pydata.org/pandas-docs/stable/user_guide/indexing.html#returning-a-view-versus-a-copy\n",
      "  cases_df['year'] = cases_df['year_week'].str.split('-').str[0]\n",
      "/var/folders/x3/w9ng2y8j28gbmqb5jv7z662c0000gn/T/ipykernel_29728/1914395739.py:37: SettingWithCopyWarning: \n",
      "A value is trying to be set on a copy of a slice from a DataFrame.\n",
      "Try using .loc[row_indexer,col_indexer] = value instead\n",
      "\n",
      "See the caveats in the documentation: https://pandas.pydata.org/pandas-docs/stable/user_guide/indexing.html#returning-a-view-versus-a-copy\n",
      "  cases_df['week'] = cases_df['year_week'].str.split('-').str[1]\n",
      "/var/folders/x3/w9ng2y8j28gbmqb5jv7z662c0000gn/T/ipykernel_29728/1914395739.py:36: SettingWithCopyWarning: \n",
      "A value is trying to be set on a copy of a slice from a DataFrame.\n",
      "Try using .loc[row_indexer,col_indexer] = value instead\n",
      "\n",
      "See the caveats in the documentation: https://pandas.pydata.org/pandas-docs/stable/user_guide/indexing.html#returning-a-view-versus-a-copy\n",
      "  cases_df['year'] = cases_df['year_week'].str.split('-').str[0]\n",
      "/var/folders/x3/w9ng2y8j28gbmqb5jv7z662c0000gn/T/ipykernel_29728/1914395739.py:37: SettingWithCopyWarning: \n",
      "A value is trying to be set on a copy of a slice from a DataFrame.\n",
      "Try using .loc[row_indexer,col_indexer] = value instead\n",
      "\n",
      "See the caveats in the documentation: https://pandas.pydata.org/pandas-docs/stable/user_guide/indexing.html#returning-a-view-versus-a-copy\n",
      "  cases_df['week'] = cases_df['year_week'].str.split('-').str[1]\n"
     ]
    },
    {
     "name": "stdout",
     "output_type": "stream",
     "text": [
      "Scatterplot für Bulgaria gespeichert: ../data/plots/Bulgaria/scatter_Bulgaria.png\n",
      "Lineplot für Bulgaria gespeichert: ../data/plots/Bulgaria/Bulgaria.png\n",
      "Portugal: Korrelation zwischen tests_done und new_cases: 0.79\n",
      "Scatterplot für Portugal gespeichert: ../data/plots/Portugal/scatter_Portugal.png\n"
     ]
    },
    {
     "name": "stderr",
     "output_type": "stream",
     "text": [
      "/var/folders/x3/w9ng2y8j28gbmqb5jv7z662c0000gn/T/ipykernel_29728/1914395739.py:36: SettingWithCopyWarning: \n",
      "A value is trying to be set on a copy of a slice from a DataFrame.\n",
      "Try using .loc[row_indexer,col_indexer] = value instead\n",
      "\n",
      "See the caveats in the documentation: https://pandas.pydata.org/pandas-docs/stable/user_guide/indexing.html#returning-a-view-versus-a-copy\n",
      "  cases_df['year'] = cases_df['year_week'].str.split('-').str[0]\n",
      "/var/folders/x3/w9ng2y8j28gbmqb5jv7z662c0000gn/T/ipykernel_29728/1914395739.py:37: SettingWithCopyWarning: \n",
      "A value is trying to be set on a copy of a slice from a DataFrame.\n",
      "Try using .loc[row_indexer,col_indexer] = value instead\n",
      "\n",
      "See the caveats in the documentation: https://pandas.pydata.org/pandas-docs/stable/user_guide/indexing.html#returning-a-view-versus-a-copy\n",
      "  cases_df['week'] = cases_df['year_week'].str.split('-').str[1]\n"
     ]
    },
    {
     "name": "stdout",
     "output_type": "stream",
     "text": [
      "Lineplot für Portugal gespeichert: ../data/plots/Portugal/Portugal.png\n",
      "Latvia: Korrelation zwischen tests_done und new_cases: 0.95\n",
      "Scatterplot für Latvia gespeichert: ../data/plots/Latvia/scatter_Latvia.png\n",
      "Lineplot für Latvia gespeichert: ../data/plots/Latvia/Latvia.png\n"
     ]
    },
    {
     "name": "stderr",
     "output_type": "stream",
     "text": [
      "/var/folders/x3/w9ng2y8j28gbmqb5jv7z662c0000gn/T/ipykernel_29728/1914395739.py:36: SettingWithCopyWarning: \n",
      "A value is trying to be set on a copy of a slice from a DataFrame.\n",
      "Try using .loc[row_indexer,col_indexer] = value instead\n",
      "\n",
      "See the caveats in the documentation: https://pandas.pydata.org/pandas-docs/stable/user_guide/indexing.html#returning-a-view-versus-a-copy\n",
      "  cases_df['year'] = cases_df['year_week'].str.split('-').str[0]\n",
      "/var/folders/x3/w9ng2y8j28gbmqb5jv7z662c0000gn/T/ipykernel_29728/1914395739.py:37: SettingWithCopyWarning: \n",
      "A value is trying to be set on a copy of a slice from a DataFrame.\n",
      "Try using .loc[row_indexer,col_indexer] = value instead\n",
      "\n",
      "See the caveats in the documentation: https://pandas.pydata.org/pandas-docs/stable/user_guide/indexing.html#returning-a-view-versus-a-copy\n",
      "  cases_df['week'] = cases_df['year_week'].str.split('-').str[1]\n"
     ]
    },
    {
     "name": "stdout",
     "output_type": "stream",
     "text": [
      "Croatia: Korrelation zwischen tests_done und new_cases: 0.80\n",
      "Scatterplot für Croatia gespeichert: ../data/plots/Croatia/scatter_Croatia.png\n"
     ]
    },
    {
     "name": "stderr",
     "output_type": "stream",
     "text": [
      "/var/folders/x3/w9ng2y8j28gbmqb5jv7z662c0000gn/T/ipykernel_29728/1914395739.py:36: SettingWithCopyWarning: \n",
      "A value is trying to be set on a copy of a slice from a DataFrame.\n",
      "Try using .loc[row_indexer,col_indexer] = value instead\n",
      "\n",
      "See the caveats in the documentation: https://pandas.pydata.org/pandas-docs/stable/user_guide/indexing.html#returning-a-view-versus-a-copy\n",
      "  cases_df['year'] = cases_df['year_week'].str.split('-').str[0]\n",
      "/var/folders/x3/w9ng2y8j28gbmqb5jv7z662c0000gn/T/ipykernel_29728/1914395739.py:37: SettingWithCopyWarning: \n",
      "A value is trying to be set on a copy of a slice from a DataFrame.\n",
      "Try using .loc[row_indexer,col_indexer] = value instead\n",
      "\n",
      "See the caveats in the documentation: https://pandas.pydata.org/pandas-docs/stable/user_guide/indexing.html#returning-a-view-versus-a-copy\n",
      "  cases_df['week'] = cases_df['year_week'].str.split('-').str[1]\n"
     ]
    },
    {
     "name": "stdout",
     "output_type": "stream",
     "text": [
      "Lineplot für Croatia gespeichert: ../data/plots/Croatia/Croatia.png\n",
      "Romania: Korrelation zwischen tests_done und new_cases: 0.80\n",
      "Scatterplot für Romania gespeichert: ../data/plots/Romania/scatter_Romania.png\n"
     ]
    },
    {
     "name": "stderr",
     "output_type": "stream",
     "text": [
      "/var/folders/x3/w9ng2y8j28gbmqb5jv7z662c0000gn/T/ipykernel_29728/1914395739.py:36: SettingWithCopyWarning: \n",
      "A value is trying to be set on a copy of a slice from a DataFrame.\n",
      "Try using .loc[row_indexer,col_indexer] = value instead\n",
      "\n",
      "See the caveats in the documentation: https://pandas.pydata.org/pandas-docs/stable/user_guide/indexing.html#returning-a-view-versus-a-copy\n",
      "  cases_df['year'] = cases_df['year_week'].str.split('-').str[0]\n",
      "/var/folders/x3/w9ng2y8j28gbmqb5jv7z662c0000gn/T/ipykernel_29728/1914395739.py:37: SettingWithCopyWarning: \n",
      "A value is trying to be set on a copy of a slice from a DataFrame.\n",
      "Try using .loc[row_indexer,col_indexer] = value instead\n",
      "\n",
      "See the caveats in the documentation: https://pandas.pydata.org/pandas-docs/stable/user_guide/indexing.html#returning-a-view-versus-a-copy\n",
      "  cases_df['week'] = cases_df['year_week'].str.split('-').str[1]\n"
     ]
    },
    {
     "name": "stdout",
     "output_type": "stream",
     "text": [
      "Lineplot für Romania gespeichert: ../data/plots/Romania/Romania.png\n",
      "Italy: Korrelation zwischen tests_done und new_cases: 0.81\n",
      "Scatterplot für Italy gespeichert: ../data/plots/Italy/scatter_Italy.png\n"
     ]
    },
    {
     "name": "stderr",
     "output_type": "stream",
     "text": [
      "/var/folders/x3/w9ng2y8j28gbmqb5jv7z662c0000gn/T/ipykernel_29728/1914395739.py:36: SettingWithCopyWarning: \n",
      "A value is trying to be set on a copy of a slice from a DataFrame.\n",
      "Try using .loc[row_indexer,col_indexer] = value instead\n",
      "\n",
      "See the caveats in the documentation: https://pandas.pydata.org/pandas-docs/stable/user_guide/indexing.html#returning-a-view-versus-a-copy\n",
      "  cases_df['year'] = cases_df['year_week'].str.split('-').str[0]\n",
      "/var/folders/x3/w9ng2y8j28gbmqb5jv7z662c0000gn/T/ipykernel_29728/1914395739.py:37: SettingWithCopyWarning: \n",
      "A value is trying to be set on a copy of a slice from a DataFrame.\n",
      "Try using .loc[row_indexer,col_indexer] = value instead\n",
      "\n",
      "See the caveats in the documentation: https://pandas.pydata.org/pandas-docs/stable/user_guide/indexing.html#returning-a-view-versus-a-copy\n",
      "  cases_df['week'] = cases_df['year_week'].str.split('-').str[1]\n",
      "/var/folders/x3/w9ng2y8j28gbmqb5jv7z662c0000gn/T/ipykernel_29728/1914395739.py:36: SettingWithCopyWarning: \n",
      "A value is trying to be set on a copy of a slice from a DataFrame.\n",
      "Try using .loc[row_indexer,col_indexer] = value instead\n",
      "\n",
      "See the caveats in the documentation: https://pandas.pydata.org/pandas-docs/stable/user_guide/indexing.html#returning-a-view-versus-a-copy\n",
      "  cases_df['year'] = cases_df['year_week'].str.split('-').str[0]\n",
      "/var/folders/x3/w9ng2y8j28gbmqb5jv7z662c0000gn/T/ipykernel_29728/1914395739.py:37: SettingWithCopyWarning: \n",
      "A value is trying to be set on a copy of a slice from a DataFrame.\n",
      "Try using .loc[row_indexer,col_indexer] = value instead\n",
      "\n",
      "See the caveats in the documentation: https://pandas.pydata.org/pandas-docs/stable/user_guide/indexing.html#returning-a-view-versus-a-copy\n",
      "  cases_df['week'] = cases_df['year_week'].str.split('-').str[1]\n"
     ]
    },
    {
     "name": "stdout",
     "output_type": "stream",
     "text": [
      "Lineplot für Italy gespeichert: ../data/plots/Italy/Italy.png\n",
      "Ireland: Korrelation zwischen tests_done und new_cases: 0.67\n",
      "Scatterplot für Ireland gespeichert: ../data/plots/Ireland/scatter_Ireland.png\n",
      "Lineplot für Ireland gespeichert: ../data/plots/Ireland/Ireland.png\n",
      "Finland: Korrelation zwischen tests_done und new_cases: 0.31\n",
      "Scatterplot für Finland gespeichert: ../data/plots/Finland/scatter_Finland.png\n"
     ]
    },
    {
     "name": "stderr",
     "output_type": "stream",
     "text": [
      "/var/folders/x3/w9ng2y8j28gbmqb5jv7z662c0000gn/T/ipykernel_29728/1914395739.py:36: SettingWithCopyWarning: \n",
      "A value is trying to be set on a copy of a slice from a DataFrame.\n",
      "Try using .loc[row_indexer,col_indexer] = value instead\n",
      "\n",
      "See the caveats in the documentation: https://pandas.pydata.org/pandas-docs/stable/user_guide/indexing.html#returning-a-view-versus-a-copy\n",
      "  cases_df['year'] = cases_df['year_week'].str.split('-').str[0]\n",
      "/var/folders/x3/w9ng2y8j28gbmqb5jv7z662c0000gn/T/ipykernel_29728/1914395739.py:37: SettingWithCopyWarning: \n",
      "A value is trying to be set on a copy of a slice from a DataFrame.\n",
      "Try using .loc[row_indexer,col_indexer] = value instead\n",
      "\n",
      "See the caveats in the documentation: https://pandas.pydata.org/pandas-docs/stable/user_guide/indexing.html#returning-a-view-versus-a-copy\n",
      "  cases_df['week'] = cases_df['year_week'].str.split('-').str[1]\n"
     ]
    },
    {
     "name": "stdout",
     "output_type": "stream",
     "text": [
      "Lineplot für Finland gespeichert: ../data/plots/Finland/Finland.png\n",
      "France: Korrelation zwischen tests_done und new_cases: 0.73\n",
      "Scatterplot für France gespeichert: ../data/plots/France/scatter_France.png\n"
     ]
    },
    {
     "name": "stderr",
     "output_type": "stream",
     "text": [
      "/var/folders/x3/w9ng2y8j28gbmqb5jv7z662c0000gn/T/ipykernel_29728/1914395739.py:36: SettingWithCopyWarning: \n",
      "A value is trying to be set on a copy of a slice from a DataFrame.\n",
      "Try using .loc[row_indexer,col_indexer] = value instead\n",
      "\n",
      "See the caveats in the documentation: https://pandas.pydata.org/pandas-docs/stable/user_guide/indexing.html#returning-a-view-versus-a-copy\n",
      "  cases_df['year'] = cases_df['year_week'].str.split('-').str[0]\n",
      "/var/folders/x3/w9ng2y8j28gbmqb5jv7z662c0000gn/T/ipykernel_29728/1914395739.py:37: SettingWithCopyWarning: \n",
      "A value is trying to be set on a copy of a slice from a DataFrame.\n",
      "Try using .loc[row_indexer,col_indexer] = value instead\n",
      "\n",
      "See the caveats in the documentation: https://pandas.pydata.org/pandas-docs/stable/user_guide/indexing.html#returning-a-view-versus-a-copy\n",
      "  cases_df['week'] = cases_df['year_week'].str.split('-').str[1]\n"
     ]
    },
    {
     "name": "stdout",
     "output_type": "stream",
     "text": [
      "Lineplot für France gespeichert: ../data/plots/France/France.png\n"
     ]
    }
   ],
   "execution_count": 64
  }
 ],
 "metadata": {
  "kernelspec": {
   "display_name": "Python 3",
   "language": "python",
   "name": "python3"
  },
  "language_info": {
   "codemirror_mode": {
    "name": "ipython",
    "version": 2
   },
   "file_extension": ".py",
   "mimetype": "text/x-python",
   "name": "python",
   "nbconvert_exporter": "python",
   "pygments_lexer": "ipython2",
   "version": "2.7.6"
  }
 },
 "nbformat": 4,
 "nbformat_minor": 5
}
