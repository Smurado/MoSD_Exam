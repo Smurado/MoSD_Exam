{
 "cells": [
  {
   "cell_type": "code",
   "id": "initial_id",
   "metadata": {
    "collapsed": true,
    "ExecuteTime": {
     "end_time": "2025-07-21T20:55:15.416751Z",
     "start_time": "2025-07-21T20:55:15.336661Z"
    }
   },
   "source": [
    "import pandas as pd\n",
    "import os\n",
    "\n",
    "# Lade CSV-Dateien\n",
    "cases = pd.read_csv('../data/raw_data/data_cases_and_deaths.csv')\n",
    "testing = pd.read_csv('../data/raw_data/data_testing.csv')\n",
    "\n",
    "# 'W' aus der 'year_week'-Spalte von df2 entfernen\n",
    "testing['year_week'] = testing['year_week'].str.replace('W', '')\n",
    "\n",
    "# Fusionieren basierend auf 'country' und 'year_week'\n",
    "merged_df = pd.merge(cases, testing, on=['country', 'year_week'], how='inner')\n",
    "\n",
    "useless_columns= [\n",
    "    'country_code_x',\n",
    "    'country_code_y',\n",
    "    'continent',\n",
    "    'population_x',\n",
    "    'population_y',\n",
    "    'source',\n",
    "    'note',\n",
    "    'level',\n",
    "    'region',\n",
    "    'region_name',\n",
    "    'testing_data_source',\n",
    "    'weekly_count'\n",
    "]\n",
    "\n",
    "# Entfernen der Spalten 'country_code_x' und 'country_code_y'\n",
    "merged_df.drop(columns=useless_columns, inplace=True)\n",
    "\n",
    "# Entfernen aller Zeilen mit NaN-Werten\n",
    "cleaned_df = merged_df.dropna()\n",
    "\n",
    "# Exportieren der Daten in separate CSV-Dateien für jedes Land\n",
    "countries = cleaned_df['country'].unique()\n",
    "\n",
    "# Erstelle per_country falls nicht vorhanden\n",
    "os.makedirs(f'../data/per_country', exist_ok=True)\n",
    "\n",
    "for country in countries:\n",
    "    country_df = cleaned_df[cleaned_df['country'] == country]\n",
    "    country_df.to_csv(f'../data/per_country/deaths_cases_testing_{country}.csv', index=False)"
   ],
   "outputs": [],
   "execution_count": 15
  }
 ],
 "metadata": {
  "kernelspec": {
   "display_name": "Python 3",
   "language": "python",
   "name": "python3"
  },
  "language_info": {
   "codemirror_mode": {
    "name": "ipython",
    "version": 2
   },
   "file_extension": ".py",
   "mimetype": "text/x-python",
   "name": "python",
   "nbconvert_exporter": "python",
   "pygments_lexer": "ipython2",
   "version": "2.7.6"
  }
 },
 "nbformat": 4,
 "nbformat_minor": 5
}
